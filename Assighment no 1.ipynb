{
 "cells": [
  {
   "cell_type": "markdown",
   "id": "3a01d644",
   "metadata": {},
   "source": [
    "1. Write a program to find a maximum and a minimum of three numbers or if the\n",
    "numbers are equal to each other, find if the given number is positive or\n",
    "negative."
   ]
  },
  {
   "cell_type": "code",
   "execution_count": 1,
   "id": "4fb4fcfd",
   "metadata": {},
   "outputs": [
    {
     "name": "stdout",
     "output_type": "stream",
     "text": [
      "All the  numbers are equal -3\n",
      "the number is negative.\n"
     ]
    }
   ],
   "source": [
    "a= int(input(\"inter the number\"))\n",
    "b= int(input(\"enter the number\"))\n",
    "c= int(input(\"enter the number\"))\n",
    "\n",
    "if a==b==c :\n",
    "    print(\"All the  numbers are equal\",a)\n",
    "    \n",
    "    if a>0:\n",
    "        print(\"the number is positive.\")\n",
    "    elif a<0:\n",
    "        print(\"the number is negative.\")\n",
    "    else:\n",
    "        print(\"the number is zero.\") \n",
    "else:  \n",
    "    if a>b and a>c :\n",
    "       print(\"the maximum number is\",a)\n",
    "    \n",
    "    elif b>a and b>c:\n",
    "       print(\"the maximum num is\",b)\n",
    "    else :\n",
    "      print(\"the maximum number is\",c)\n",
    "     \n",
    "    if a<b and a<c :\n",
    "        print(\"the minimum number is\",a)\n",
    "    \n",
    "    elif b<a and b<c:\n",
    "         print(\"the minimum num is\",b)\n",
    "    else :\n",
    "       print(\"the minimum number is\",c)\n",
    "      \n"
   ]
  },
  {
   "cell_type": "markdown",
   "id": "84fdc404",
   "metadata": {},
   "source": [
    "2- Write a program to ask from the user to write a word to check if it contains a\n",
    "vowel character or not. In case having a vowel character print its position.\n",
    "Ex: input “car” output : there is “a” (vowel character) in index 1."
   ]
  },
  {
   "cell_type": "code",
   "execution_count": 11,
   "id": "91a032e0",
   "metadata": {},
   "outputs": [
    {
     "name": "stdout",
     "output_type": "stream",
     "text": [
      "No vowel found in the word.\n"
     ]
    }
   ],
   "source": [
    "\n",
    "word = input(\"Enter a word: \")\n",
    "vowels = \"aeiouAEIOU\"\n",
    "Found = False\n",
    "\n",
    "for index, char in enumerate(word):\n",
    "    if char in vowels:\n",
    "        print(f\"Vowel '{char}' found at position {index}\")\n",
    "        Found= True\n",
    "if not Found:\n",
    "    print(\"No vowel found in the word.\")\n"
   ]
  },
  {
   "cell_type": "markdown",
   "id": "baae4fa4",
   "metadata": {},
   "source": [
    "3= Write a program to display the last digit of a number\n",
    "EX: number =145678 output => 8"
   ]
  },
  {
   "cell_type": "code",
   "execution_count": 13,
   "id": "04540980",
   "metadata": {},
   "outputs": [
    {
     "name": "stdout",
     "output_type": "stream",
     "text": [
      "7\n"
     ]
    }
   ],
   "source": [
    "number = int(input(\"Enter a number: \"))\n",
    "last_digit = abs(number) % 10\n",
    "print( last_digit)\n"
   ]
  },
  {
   "cell_type": "markdown",
   "id": "1f662090",
   "metadata": {},
   "source": [
    "4. Write a program to accept number from user and find if the number is divisible\n",
    "by 2 and 3 both."
   ]
  },
  {
   "cell_type": "code",
   "execution_count": 15,
   "metadata": {},
   "outputs": [
    {
     "name": "stdout",
     "output_type": "stream",
     "text": [
      "12 is divisible by both 2 and 3.\n"
     ]
    }
   ],
   "source": [
    "number = int(input(\"Enter a number: \"))\n",
    "\n",
    "if number % 2 == 0 and number % 3 == 0:\n",
    "    print(f\"{number} is divisible by both 2 and 3.\")\n",
    "else:\n",
    "    print(f\"{number} is NOT divisible by both 2 and 3.\")\n"
   ]
  },
  {
   "cell_type": "markdown",
   "id": "78721b84",
   "metadata": {},
   "source": [
    "5. Write a program to accept the following from the user and calculate the\n",
    "percentage of class attended, if the percentage is less than 75, then student\n",
    "will not be able to sit in exam:\n",
    "- Total number of working days\n",
    "- Total number of days for absent"
   ]
  },
  {
   "cell_type": "code",
   "execution_count": null,
   "id": "261cb2bc",
   "metadata": {},
   "outputs": [
    {
     "name": "stdout",
     "output_type": "stream",
     "text": [
      "You are allowed to sit in the exam.\n"
     ]
    }
   ],
   "source": [
    "\n",
    "total_days = int(input(\"Enter total number of working days: \"))\n",
    "absent_days = int(input(\"Enter total number of days absent: \"))\n",
    "\n",
    "\n",
    "present_days = total_days - absent_days\n",
    "percentage = (present_days / total_days) * 100\n",
    "\n",
    "if percentage >= 75:\n",
    "    print(\"You are allowed to sit in the exam.\")\n",
    "else:\n",
    "    print(\"You are NOT allowed to sit in the exam.\")\n"
   ]
  },
  {
   "cell_type": "markdown",
   "id": "3be3395c",
   "metadata": {},
   "source": [
    "6. Given a string, write a python program that convert the string based on the\n",
    "following conditions:\n",
    "• If lower case letter less than upper case letter convert string to upper\n",
    "case EX: AAAa → AAAA\n",
    "• If upper case letter less than lower case letter convert string to lower\n",
    "case EX: aaaA → aaaa"
   ]
  },
  {
   "cell_type": "code",
   "execution_count": 20,
   "id": "c4017dc4",
   "metadata": {},
   "outputs": [
    {
     "name": "stdout",
     "output_type": "stream",
     "text": [
      "HJKHHG\n"
     ]
    }
   ],
   "source": [
    "s = input(\"Enter a string: \")\n",
    "\n",
    "lower = 0\n",
    "upper = 0\n",
    "\n",
    "for c in s:\n",
    "    if 'a' <= c <= 'z':\n",
    "        lower += 1\n",
    "    elif 'A' <= c <= 'Z':\n",
    "        upper += 1\n",
    "\n",
    "if lower < upper:\n",
    "    print(s.upper())\n",
    "else:\n",
    "    print(s.lower())\n"
   ]
  },
  {
   "cell_type": "markdown",
   "id": "42e83723",
   "metadata": {},
   "source": [
    "7. Write a program to accept number from the user and check if the given\n",
    "number is palindrome(ex:12321) or Armstrong(ex: 153\n",
    "(13+53+33=1+125+27=153)) or not."
   ]
  },
  {
   "cell_type": "code",
   "execution_count": 21,
   "id": "fd375b0c",
   "metadata": {},
   "outputs": [
    {
     "name": "stdout",
     "output_type": "stream",
     "text": [
      "153 is NOT a Palindrome number.\n",
      "153 is an Armstrong number.\n"
     ]
    }
   ],
   "source": [
    "num = int(input(\"Enter a number: \"))\n",
    "num_str = str(num)\n",
    "# check palindrome\n",
    "if num_str == num_str[::-1]:\n",
    "    print(f\"{num} is a Palindrome number.\")\n",
    "else:\n",
    "    print(f\"{num} is NOT a Palindrome number.\")\n",
    "\n",
    "#check armstrong\n",
    "digits = [int(d) for d in num_str]\n",
    "power = len(digits)\n",
    "armstrong_sum = sum(d ** power for d in digits)\n",
    "\n",
    "if armstrong_sum == num:\n",
    "    print(f\"{num} is an Armstrong number.\")\n",
    "else:\n",
    "    print(f\"{num} is NOT an Armstrong number.\")\n"
   ]
  },
  {
   "cell_type": "markdown",
   "id": "213badff",
   "metadata": {},
   "source": [
    "8. Write a program to accept number from the user and convert it to words\n",
    "➢ EX: 124 → One hundred and twenty-four. (Bonus)"
   ]
  },
  {
   "cell_type": "code",
   "execution_count": null,
   "id": "8902ece9",
   "metadata": {},
   "outputs": [
    {
     "name": "stdout",
     "output_type": "stream",
     "text": [
      "one hundred thirty five\n"
     ]
    }
   ],
   "source": [
    "number = int(input(\"Enter a number (0-9999): \"))\n",
    "\n",
    "def number_to_words(num):\n",
    "    ones = [\"zero\",\"one\",\"two\",\"three\",\"four\",\"five\",\"six\",\"seven\",\"eight\",\"nine\"]\n",
    "    teens = [\"ten\",\"eleven\",\"twelve\",\"thirteen\",\"fourteen\",\"fifteen\",\"sixteen\",\n",
    "             \"seventeen\",\"eighteen\",\"nineteen\"]\n",
    "    tens = [\"\", \"\", \"twenty\",\"thirty\",\"forty\",\"fifty\",\"sixty\",\"seventy\",\"eighty\",\"ninety\"]\n",
    "\n",
    "    if num < 0 or num > 9999:\n",
    "        return \"Number out of supported range (0-9999)\"\n",
    "\n",
    "    if num < 10:\n",
    "        return ones[num]\n",
    "\n",
    "    if 10 <= num < 20:\n",
    "        return teens[num - 10]\n",
    "\n",
    "    if 20 <= num < 100:\n",
    "        return tens[num // 10] + (\"\" if num % 10 == 0 else \" \" + ones[num % 10])\n",
    "\n",
    "    if 100 <= num < 1000:\n",
    "        remainder = num % 100\n",
    "        return ones[num // 100] + \" hundred\" + (\"\" if remainder == 0 else \" \" + number_to_words(remainder))\n",
    "\n",
    "    if 1000 <= num <= 9999:\n",
    "        remainder = num % 1000\n",
    "        return ones[num // 1000] + \" thousand\" + (\"\" if remainder == 0 else \" \" + number_to_words(remainder))\n",
    "\n",
    "\n",
    "print(number_to_words(number))\n"
   ]
  },
  {
   "cell_type": "markdown",
   "id": "c40ea720",
   "metadata": {},
   "source": [
    "9. Write a program to find the sum of the following series:\n",
    "1 + 4 – 9 +16 – 25 + 36 ...........n terms , note the input is n; for example input: 5,\n",
    "output : 1 + 4 – 9 +16 – 25 = -13."
   ]
  },
  {
   "cell_type": "code",
   "execution_count": 30,
   "id": "c8c78c5f",
   "metadata": {},
   "outputs": [
    {
     "name": "stdout",
     "output_type": "stream",
     "text": [
      "Sum of the series: -13\n"
     ]
    }
   ],
   "source": [
    "n = int(input(\"Enter the number of terms: \"))\n",
    "\n",
    "sum_series = 0\n",
    "\n",
    "for i in range(1, n + 1):\n",
    "    term = i * i  \n",
    "\n",
    "    if i % 2 == 0:\n",
    "        sum_series +=1 \n",
    "        sum_series += term  # Even index: add\n",
    "    else:\n",
    "        \n",
    "        sum_series -= term  # Odd index: subtract\n",
    "\n",
    "print(\"Sum of the series:\", sum_series)\n"
   ]
  },
  {
   "cell_type": "markdown",
   "id": "686ebae7",
   "metadata": {},
   "source": [
    "10. Write a program to count number of “car” word in a string accepted from user\n",
    "and the positions of them. Ex: input: the car is red, output: the word car in\n",
    "position 2 in the text."
   ]
  },
  {
   "cell_type": "code",
   "execution_count": 31,
   "id": "a514a88d",
   "metadata": {},
   "outputs": [
    {
     "name": "stdout",
     "output_type": "stream",
     "text": [
      "Positions: [2]\n"
     ]
    }
   ],
   "source": [
    "text = input(\"Enter a sentence: \")\n",
    "words = text.split()\n",
    "positions = []\n",
    "\n",
    "for i in range(len(words)):\n",
    "    word = words[i].strip(\".,!?\")\n",
    "    if word.lower() == \"car\":\n",
    "        positions.append(i + 1)\n",
    "\n",
    "print(\"Positions:\", positions)\n"
   ]
  },
  {
   "cell_type": "markdown",
   "id": "87e68eaa",
   "metadata": {},
   "source": [
    "11. Write a program that ask user to enter input (text or number or number with\n",
    "text):\n",
    "- In case the input is number get the summation of its digits.Ex: 123→6\n",
    "- In case the input is text remove the spaces. Ex: the car → thecar\n",
    "- In case number with text split them, number and text each individually.\n",
    "Ex: 23 st → [12] [st]"
   ]
  },
  {
   "cell_type": "code",
   "execution_count": null,
   "id": "4d59ce5d",
   "metadata": {},
   "outputs": [
    {
     "name": "stdout",
     "output_type": "stream",
     "text": [
      "[5 5 5 5] [v j u u]\n"
     ]
    }
   ],
   "source": [
    "user_input = input(\"Enter text, number, or number with text: \")\n",
    "\n",
    "# Case 1\n",
    "if user_input.isdigit():\n",
    "    digit_sum = sum(int(digit) for digit in user_input)\n",
    "    print(f\"Sum of digits: {digit_sum}\")\n",
    "\n",
    "# Case 2\n",
    "elif user_input.replace(\" \", \"\").isalpha():\n",
    "    no_spaces = user_input.replace(\" \", \"\")\n",
    "    print(f\"Text without spaces: {no_spaces}\")\n",
    "\n",
    "# Case 3\n",
    "else:\n",
    "    digits_list = []\n",
    "    letters_list = []\n",
    "    user_input.split()\n",
    "    for char in user_input:\n",
    "        if char.isdigit():\n",
    "            digits_list.append(char)  \n",
    "        elif char.isalpha():\n",
    "            letters_list.append(char)\n",
    "            \n",
    "    digits_str = \" \".join(digits_list)\n",
    "    letters_str = \" \".join(letters_list)\n",
    "    \n",
    "    print(f\"[{digits_str}] [{letters_str}]\")\n"
   ]
  },
  {
   "cell_type": "markdown",
   "id": "4f6db3d7",
   "metadata": {},
   "source": [
    "12. Write a Python program to calculate the average value of the numbers in a\n",
    "given tuple of tuples.\n",
    "Original Tuple:\n",
    "((10, 10, 10, 12), (30, 45, 56, 45), (81, 80, 39, 32), (1, 2, 3, 4))\n",
    "Average value of the numbers of the said tuple of tuples:\n",
    "[30.5, 34.25, 27.0, 23.25]"
   ]
  },
  {
   "cell_type": "code",
   "execution_count": 4,
   "id": "be463f94",
   "metadata": {},
   "outputs": [
    {
     "name": "stdout",
     "output_type": "stream",
     "text": [
      "Average values of the numbers of the said tuple of tuples: [30.5, 34.25, 27.0, 23.25]\n"
     ]
    }
   ],
   "source": [
    "data = ((10, 10, 10, 12), \n",
    "        (30, 45, 56, 45), \n",
    "        (81, 80, 39, 32), \n",
    "        (1, 2, 3, 4))\n",
    "\n",
    "rows = len(data)\n",
    "cols = len(data[0])\n",
    "\n",
    "averages = []\n",
    "\n",
    "for col in range(cols):\n",
    "    col_sum = 0\n",
    "    for row in range(rows):\n",
    "        col_sum += data[row][col]\n",
    "    avg = col_sum / rows\n",
    "    averages.append(avg)\n",
    "\n",
    "print(\"Average values of the numbers of the said tuple of tuples:\", averages)\n",
    "\n"
   ]
  },
  {
   "cell_type": "markdown",
   "id": "a389d895",
   "metadata": {},
   "source": [
    "13. Write a Python program to check if a list is empty or not. if not, sort it in\n",
    "increasing order."
   ]
  },
  {
   "cell_type": "code",
   "execution_count": null,
   "id": "ba115c05",
   "metadata": {},
   "outputs": [
    {
     "name": "stdout",
     "output_type": "stream",
     "text": [
      "Sorted list: [1, 3, 4, 21, 55]\n"
     ]
    }
   ],
   "source": [
    "user_input = input(\"Enter list elements separated by space: \")\n",
    "\n",
    "if not user_input.strip():  \n",
    "    print(\"The list is empty.\")\n",
    "else:\n",
    "    try:\n",
    "        numbers = [int(x) for x in user_input.split()]\n",
    "        numbers.sort()\n",
    "        print(\"Sorted list:\", numbers)\n",
    "    except ValueError:\n",
    "        print(\"Error: Please enter only numbers separated by spaces.\")"
   ]
  },
  {
   "cell_type": "markdown",
   "id": "f1b4ffe8",
   "metadata": {},
   "source": [
    "14. Write a Python program to print the numbers of a specified list after removing\n",
    "even numbers from it. Ex: Input : list = [4, 6, 3, 7], K = 2 Output : [3,7]"
   ]
  },
  {
   "cell_type": "code",
   "execution_count": null,
   "id": "31d8bc9b",
   "metadata": {},
   "outputs": [
    {
     "name": "stdout",
     "output_type": "stream",
     "text": [
      "Output : [1, 3]\n"
     ]
    }
   ],
   "source": [
    "def remove_even_numbers(input_list):\n",
    "    # Use a list comprehension to keep only odd numbers\n",
    "    result = [num for num in input_list if num % 2 != 0]\n",
    "    return result\n",
    "\n",
    "user_input = input(\"Enter list elements separated by space: \")\n",
    "\n",
    "input_list = [int(num) for num in user_input.split()]\n",
    "output = remove_even_numbers(input_list)\n",
    "print(\"Output :\", output)"
   ]
  },
  {
   "cell_type": "code",
   "execution_count": 46,
   "id": "e06566a4",
   "metadata": {},
   "outputs": [
    {
     "name": "stdout",
     "output_type": "stream",
     "text": [
      "Odd numbers are: 9 67 3 \n"
     ]
    }
   ],
   "source": [
    "user_input = input(\"Enter numbers separated by spaces: \")\n",
    "numbers = user_input.split()\n",
    "\n",
    "print(\"Odd numbers are:\", end=\" \")\n",
    "for num_str in numbers:\n",
    "    num = int(num_str)\n",
    "    if num % 2 != 0:\n",
    "        print(num, end=\" \")\n",
    "print()\n"
   ]
  },
  {
   "cell_type": "markdown",
   "id": "22866d32",
   "metadata": {},
   "source": [
    "15. Write a Python program to extract elements with Frequency greater than\n",
    "element K. Ex: Input : test_list = [4, 6, 4, 3, 3, 4, 3, 4, 6, 6], K = 2 Output : [4, 3, 6]"
   ]
  },
  {
   "cell_type": "code",
   "execution_count": 53,
   "id": "e00b5171",
   "metadata": {},
   "outputs": [
    {
     "name": "stdout",
     "output_type": "stream",
     "text": [
      "Elements with frequency greater than 2 : [4, 6, 3]\n"
     ]
    }
   ],
   "source": [
    "\n",
    "test_list = input(\"Enter numbers separated by spaces: \").split()\n",
    "test_list = [int(x) for x in test_list]\n",
    "K = int(input(\"Enter the value of K: \"))\n",
    "result = []\n",
    "for num in test_list:\n",
    "    if test_list.count(num) > K and num not in result:\n",
    "        result.append(num)\n",
    "\n",
    "print(\"Elements with frequency greater than\", K, \":\", result)\n"
   ]
  },
  {
   "cell_type": "markdown",
   "id": "02a2f49b",
   "metadata": {},
   "source": [
    "16. Write a Python program to Sort Dictionary key and values List.EX: Input : {‘c’:\n",
    "[3], ‘b’: [12, 10], ‘a’: [19, 4]} Output : {‘a’: [4, 19], ‘b’: [10, 12], ‘c’: [3]}"
   ]
  },
  {
   "cell_type": "code",
   "execution_count": 13,
   "id": "365a8d8f",
   "metadata": {},
   "outputs": [
    {
     "name": "stdout",
     "output_type": "stream",
     "text": [
      "Sorted dictionary: {'a': [4, 19], 'b': [10, 12], 'c': [3]}\n"
     ]
    }
   ],
   "source": [
    "my_dict = {'c': [3], 'b': [12, 10], 'a': [19, 4]}\n",
    "\n",
    "sorted_dict = {}\n",
    "\n",
    "for key in sorted(my_dict.keys()): \n",
    "    sorted_dict[key] = sorted(my_dict[key]) \n",
    "\n",
    "print(\"Sorted dictionary:\", sorted_dict)\n"
   ]
  },
  {
   "cell_type": "markdown",
   "id": "5c83c726",
   "metadata": {},
   "source": [
    "17. Write a Python program to create a dictionary that stores the names of 3\n",
    "students, each student has another dictionary with their 'age' and 'grades'.\n",
    "Allow editing of a student’s age or grades. The user should choose which\n",
    "student to edit, and then either update the age or modify the list of grades.\n",
    "\n",
    "EX: the dictionary looks like → students = { 'Alice': {'age': 20, 'grades': [85, 90,\n",
    "92]}, 'Bob': {'age': 21, 'grades': [75, 80, 78]}, 'Charlie': {'age': 19, 'grades': [95, 97,\n",
    "93]} }"
   ]
  },
  {
   "cell_type": "code",
   "execution_count": 15,
   "id": "7f47b4d9",
   "metadata": {},
   "outputs": [
    {
     "name": "stdout",
     "output_type": "stream",
     "text": [
      "Updated info: Bob {'age': 26, 'grades': [75, 80, 78]}\n"
     ]
    }
   ],
   "source": [
    "students = {\n",
    "    'Alice': {'age': 20, 'grades': [85, 90, 92]},\n",
    "    'Bob': {'age': 21, 'grades': [75, 80, 78]},\n",
    "    'Charlie': {'age': 19, 'grades': [95, 97, 93]}\n",
    "}\n",
    "\n",
    "name = input(\"Enter student name (Alice / Bob / Charlie): \")\n",
    "\n",
    "if name in students:\n",
    "    choice = input(\"Do you want to edit age or grades? \")\n",
    "\n",
    "    if choice == \"age\":\n",
    "        new_age = int(input(\"Enter new age: \"))\n",
    "        students[name]['age'] = new_age\n",
    "\n",
    "    elif choice == \"grades\":\n",
    "        new_grades = input(\"Enter new grades (e.g. 80 85 90): \")\n",
    "        students[name]['grades'] = [int(x) for x in new_grades.split()]\n",
    "\n",
    "    else:\n",
    "        print(\"Invalid choice.\")\n",
    "\n",
    "else:\n",
    "    print(\"Student not found.\")\n",
    "\n",
    "print(\"Updated info:\",name, students[name])\n"
   ]
  }
 ],
 "metadata": {
  "kernelspec": {
   "display_name": "base",
   "language": "python",
   "name": "python3"
  },
  "language_info": {
   "codemirror_mode": {
    "name": "ipython",
    "version": 3
   },
   "file_extension": ".py",
   "mimetype": "text/x-python",
   "name": "python",
   "nbconvert_exporter": "python",
   "pygments_lexer": "ipython3",
   "version": "3.13.5"
  }
 },
 "nbformat": 4,
 "nbformat_minor": 5
}
